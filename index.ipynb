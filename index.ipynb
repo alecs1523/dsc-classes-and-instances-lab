{
  "cells": [
    {
      "cell_type": "markdown",
      "metadata": {
        "id": "DM7_c4dc1di_"
      },
      "source": [
        "# Classes and Instances - Lab\n",
        "\n",
        "## Introduction\n",
        "\n",
        "Okay, you've learned how to declare classes and create instances in the last lesson. Now it's time to put these new skills to the test!\n",
        "\n",
        "## Objectives\n",
        "\n",
        "In this lab you will:\n",
        "\n",
        "* Create an instance of a class\n",
        "\n",
        "## Classes\n",
        "\n",
        "\n",
        "You're about to create your first package with class definitions! You've already seen how to import packages such as NumPy and Pandas, and you can organize your own code in a similar manner. For example, once you define the `Ride` class in a file **ride.py**, you can then import said code in another notebook or script using:"
      ]
    },
    {
      "cell_type": "code",
      "execution_count": 5,
      "metadata": {
        "id": "fjkV7dCh1djD"
      },
      "outputs": [],
      "source": [
        "# Import the entire file\n",
        "import ride\n",
        "\n",
        "# Import only the Ride class\n",
        "from ride import Ride"
      ]
    },
    {
      "cell_type": "markdown",
      "metadata": {
        "id": "lzQp18L01djE"
      },
      "source": [
        "In addition to **ride.py** file, we also created another file **driver.py** that contains the `Driver` class. Import this class in the cell below:"
      ]
    },
    {
      "cell_type": "code",
      "execution_count": 6,
      "metadata": {
        "id": "OtH3gK001djE"
      },
      "outputs": [],
      "source": [
        "# Import only the Driver class\n",
        "import driver\n",
        "\n",
        "from driver import Driver"
      ]
    },
    {
      "cell_type": "markdown",
      "metadata": {
        "id": "86S4pgqw1djF"
      },
      "source": [
        "Create a `Passenger` class that doesn't contain anything in the following cell:\n",
        "\n",
        "> Note: By convention, you should use CamelCase to name the class. Also, you can't create an \"empty\" class. At the least, you need to specify the pass keyword to ensure the class definition is syntactically valid."
      ]
    },
    {
      "cell_type": "code",
      "execution_count": 7,
      "metadata": {
        "id": "mgRGX1uV1djG"
      },
      "outputs": [],
      "source": [
        "# Create Passenger class\n",
        "class Passenger:\n",
        "  pass"
      ]
    },
    {
      "cell_type": "markdown",
      "metadata": {
        "id": "LDOhCyB_1djG"
      },
      "source": [
        "## Instances"
      ]
    },
    {
      "cell_type": "markdown",
      "metadata": {
        "id": "tMeH6yAW1djH"
      },
      "source": [
        "Now practice using these classes to create instances. First, make two instances of the `Passenger` class and assign them to the variables `meryl` and `daniel`, respectively:"
      ]
    },
    {
      "cell_type": "code",
      "execution_count": 8,
      "metadata": {
        "id": "gC2f8oWI1djI",
        "outputId": "a940c573-6bad-428a-a790-59dc27f18c81",
        "colab": {
          "base_uri": "https://localhost:8080/"
        }
      },
      "outputs": [
        {
          "output_type": "stream",
          "name": "stdout",
          "text": [
            "<__main__.Passenger object at 0x7c1c3ed96140>\n",
            "<__main__.Passenger object at 0x7c1c3ed97820>\n"
          ]
        }
      ],
      "source": [
        "# Two instances of the Passenger class\n",
        "meryl = Passenger()\n",
        "daniel = Passenger()\n",
        "\n",
        "print(meryl)\n",
        "print(daniel)"
      ]
    },
    {
      "cell_type": "markdown",
      "metadata": {
        "id": "-5AmOVOl1djI"
      },
      "source": [
        "Next, make one instance of the `Driver` class and assign it to the variable, `flatiron_taxi`."
      ]
    },
    {
      "cell_type": "code",
      "execution_count": 10,
      "metadata": {
        "id": "zQ4FeF5z1djJ",
        "outputId": "bdaf1b9f-ae4b-44fc-8c69-bbb01fc53749",
        "colab": {
          "base_uri": "https://localhost:8080/"
        }
      },
      "outputs": [
        {
          "output_type": "stream",
          "name": "stdout",
          "text": [
            "<driver.Driver object at 0x7c1c3ed94a00>\n"
          ]
        }
      ],
      "source": [
        "# One instance of the Driver class\n",
        "flatiron_taxi = Driver()\n",
        "print(flatiron_taxi)"
      ]
    },
    {
      "cell_type": "markdown",
      "metadata": {
        "id": "kHxip_Px1djJ"
      },
      "source": [
        "Finally, make two instances of the `Ride` class and assign them to `ride_to_school` and `ride_home`."
      ]
    },
    {
      "cell_type": "code",
      "execution_count": 11,
      "metadata": {
        "scrolled": true,
        "id": "aGy9HvEX1djK",
        "outputId": "e94754da-4133-4d98-8a35-e653ee4a2dc1",
        "colab": {
          "base_uri": "https://localhost:8080/"
        }
      },
      "outputs": [
        {
          "output_type": "stream",
          "name": "stdout",
          "text": [
            "<ride.Ride object at 0x7c1c3ed973a0>\n",
            "<ride.Ride object at 0x7c1c3ed94dc0>\n"
          ]
        }
      ],
      "source": [
        "# Two instances of the Ride class\n",
        "ride_to_school = Ride()\n",
        "ride_home = Ride()\n",
        "\n",
        "print(ride_to_school)\n",
        "print(ride_home)"
      ]
    },
    {
      "cell_type": "markdown",
      "metadata": {
        "id": "oJ4Kskkj1djK"
      },
      "source": [
        "## Summary\n",
        "Great! In this lab, you were able to define classes and create instances of those classes."
      ]
    }
  ],
  "metadata": {
    "kernelspec": {
      "display_name": "Python 3",
      "language": "python",
      "name": "python3"
    },
    "language_info": {
      "codemirror_mode": {
        "name": "ipython",
        "version": 3
      },
      "file_extension": ".py",
      "mimetype": "text/x-python",
      "name": "python",
      "nbconvert_exporter": "python",
      "pygments_lexer": "ipython3",
      "version": "3.7.3"
    },
    "colab": {
      "provenance": []
    }
  },
  "nbformat": 4,
  "nbformat_minor": 0
}